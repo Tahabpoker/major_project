{
 "cells": [
  {
   "cell_type": "code",
   "execution_count": 1,
   "metadata": {
    "execution": {
     "iopub.execute_input": "2023-09-03T10:24:30.125246Z",
     "iopub.status.busy": "2023-09-03T10:24:30.124869Z",
     "iopub.status.idle": "2023-09-03T10:24:30.580190Z",
     "shell.execute_reply": "2023-09-03T10:24:30.579212Z",
     "shell.execute_reply.started": "2023-09-03T10:24:30.125217Z"
    },
    "scrolled": true
   },
   "outputs": [],
   "source": [
    "import os\n",
    "for dirname, _, filenames in os.walk('/brain/'):\n",
    "    for filename in filenames:\n",
    "        print(os.path.join(dirname, filename))"
   ]
  },
  {
   "cell_type": "code",
   "execution_count": null,
   "metadata": {},
   "outputs": [],
   "source": []
  },
  {
   "cell_type": "code",
   "execution_count": 3,
   "metadata": {
    "execution": {
     "iopub.execute_input": "2023-09-03T10:24:30.582781Z",
     "iopub.status.busy": "2023-09-03T10:24:30.581883Z",
     "iopub.status.idle": "2023-09-03T10:24:38.128429Z",
     "shell.execute_reply": "2023-09-03T10:24:38.127291Z",
     "shell.execute_reply.started": "2023-09-03T10:24:30.582747Z"
    }
   },
   "outputs": [],
   "source": [
    "from tensorflow.keras.preprocessing.image import ImageDataGenerator\n",
    "from tensorflow.keras.applications import InceptionV3\n",
    "from tensorflow.keras.models import Sequential\n",
    "from tensorflow.keras.layers import Conv2D, MaxPooling2D, Dense, Dropout, Flatten\n",
    "from tensorflow.keras.optimizers import Adam\n",
    "from tensorflow.keras import regularizers\n",
    "from tensorflow.keras.callbacks import EarlyStopping\n",
    "import numpy as np\n",
    "\n",
    "\n"
   ]
  },
  {
   "cell_type": "code",
   "execution_count": 4,
   "metadata": {
    "execution": {
     "iopub.execute_input": "2023-09-03T10:24:38.130625Z",
     "iopub.status.busy": "2023-09-03T10:24:38.129857Z",
     "iopub.status.idle": "2023-09-03T10:24:38.138355Z",
     "shell.execute_reply": "2023-09-03T10:24:38.137302Z",
     "shell.execute_reply.started": "2023-09-03T10:24:38.130590Z"
    }
   },
   "outputs": [],
   "source": [
    "# Data augmentation\n",
    "train_datagen = ImageDataGenerator(\n",
    "    rescale=1./255,\n",
    "    rotation_range=40,\n",
    "    width_shift_range=0.2,\n",
    "    height_shift_range=0.2,\n",
    "    shear_range=0.2,\n",
    "    zoom_range=0.2,\n",
    "    horizontal_flip=True\n",
    ")\n",
    "\n",
    "# Test data should not be augmented\n",
    "test_datagen = ImageDataGenerator(rescale=1./255)\n",
    "\n"
   ]
  },
  {
   "cell_type": "code",
   "execution_count": 17,
   "metadata": {
    "execution": {
     "iopub.execute_input": "2023-09-03T10:24:38.142049Z",
     "iopub.status.busy": "2023-09-03T10:24:38.141385Z",
     "iopub.status.idle": "2023-09-03T10:24:38.245216Z",
     "shell.execute_reply": "2023-09-03T10:24:38.244354Z",
     "shell.execute_reply.started": "2023-09-03T10:24:38.142013Z"
    }
   },
   "outputs": [
    {
     "name": "stdout",
     "output_type": "stream",
     "text": [
      "Found 5712 images belonging to 4 classes.\n",
      "Found 1311 images belonging to 4 classes.\n"
     ]
    }
   ],
   "source": [
    "# Load and preprocess your dataset (adjust paths and parameters)\n",
    "train_generator = train_datagen.flow_from_directory(\n",
    "    \"D:/TAHAB WORKING FOLDER/Prototype_MajorProject/1/New folder/brain/Training\",\n",
    "    target_size=(224, 224),\n",
    "    batch_size=32,\n",
    "    class_mode='categorical'\n",
    ")\n",
    "\n",
    "test_generator = test_datagen.flow_from_directory(\n",
    "   \"D:/TAHAB WORKING FOLDER/Prototype_MajorProject/1/New folder/brain/Testing\",\n",
    "    target_size=(224, 224),\n",
    "    batch_size=32,\n",
    "    class_mode='categorical',\n",
    "    shuffle=False\n",
    ")\n",
    "\n"
   ]
  },
  {
   "cell_type": "code",
   "execution_count": 21,
   "metadata": {},
   "outputs": [
    {
     "data": {
      "text/plain": [
       "{'glioma': 0, 'meningioma': 1, 'notumor': 2, 'pituitary': 3}"
      ]
     },
     "execution_count": 21,
     "metadata": {},
     "output_type": "execute_result"
    }
   ],
   "source": [
    "test_generator.class_indices"
   ]
  },
  {
   "cell_type": "code",
   "execution_count": 7,
   "metadata": {
    "execution": {
     "iopub.execute_input": "2023-09-03T10:24:38.246828Z",
     "iopub.status.busy": "2023-09-03T10:24:38.246524Z",
     "iopub.status.idle": "2023-09-03T10:24:45.160718Z",
     "shell.execute_reply": "2023-09-03T10:24:45.159739Z",
     "shell.execute_reply.started": "2023-09-03T10:24:38.246799Z"
    }
   },
   "outputs": [],
   "source": [
    "# Pre-trained InceptionV3 model as the base\n",
    "\n",
    "base_model = InceptionV3(weights='imagenet', include_top=False, input_shape=(224, 224, 3))\n",
    "\n"
   ]
  },
  {
   "cell_type": "code",
   "execution_count": 8,
   "metadata": {
    "execution": {
     "iopub.execute_input": "2023-09-03T10:24:45.163479Z",
     "iopub.status.busy": "2023-09-03T10:24:45.162816Z",
     "iopub.status.idle": "2023-09-03T10:24:45.180872Z",
     "shell.execute_reply": "2023-09-03T10:24:45.179298Z",
     "shell.execute_reply.started": "2023-09-03T10:24:45.163443Z"
    }
   },
   "outputs": [],
   "source": [
    "# Fine-tuning the last layers of the base model\n",
    "for layer in base_model.layers[:-10]:\n",
    "    layer.trainable = False\n"
   ]
  },
  {
   "cell_type": "code",
   "execution_count": 10,
   "metadata": {
    "execution": {
     "iopub.execute_input": "2023-09-03T10:27:42.373901Z",
     "iopub.status.busy": "2023-09-03T10:27:42.373551Z",
     "iopub.status.idle": "2023-09-03T10:27:43.099067Z",
     "shell.execute_reply": "2023-09-03T10:27:43.098096Z",
     "shell.execute_reply.started": "2023-09-03T10:27:42.373871Z"
    }
   },
   "outputs": [],
   "source": [
    "# Create your model\n",
    "model = Sequential()\n",
    "model.add(base_model)\n",
    "model.add(Conv2D(128, (3, 3), activation='relu', padding='same'))\n",
    "model.add(MaxPooling2D((2, 2)))\n",
    "model.add(Conv2D(64, (3, 3), activation='relu', padding='same'))\n",
    "model.add(MaxPooling2D((2, 2)))\n",
    "model.add(Flatten())\n",
    "model.add(Dense(512, activation='relu', kernel_regularizer=regularizers.l2(0.001)))\n",
    "model.add(Dropout(0.5))\n",
    "model.add(Dense(256, activation='relu', kernel_regularizer=regularizers.l2(0.001)))\n",
    "model.add(Dropout(0.5))\n",
    "model.add(Dense(4, activation='softmax'))\n"
   ]
  },
  {
   "cell_type": "code",
   "execution_count": 11,
   "metadata": {
    "execution": {
     "iopub.execute_input": "2023-09-03T10:28:16.041735Z",
     "iopub.status.busy": "2023-09-03T10:28:16.041382Z",
     "iopub.status.idle": "2023-09-03T10:28:16.068331Z",
     "shell.execute_reply": "2023-09-03T10:28:16.067462Z",
     "shell.execute_reply.started": "2023-09-03T10:28:16.041705Z"
    }
   },
   "outputs": [
    {
     "name": "stderr",
     "output_type": "stream",
     "text": [
      "C:\\Users\\MUZAMMIL\\anaconda3\\lib\\site-packages\\keras\\optimizers\\optimizer_v2\\adam.py:114: UserWarning: The `lr` argument is deprecated, use `learning_rate` instead.\n",
      "  super().__init__(name, **kwargs)\n"
     ]
    }
   ],
   "source": [
    "\n",
    "# Compile the model\n",
    "model.compile(optimizer=Adam(lr=0.00005),  # Experiment with different learning rates\n",
    "              loss='categorical_crossentropy',\n",
    "              metrics=['accuracy'])"
   ]
  },
  {
   "cell_type": "code",
   "execution_count": 9,
   "metadata": {
    "execution": {
     "iopub.execute_input": "2023-09-03T10:28:27.170635Z",
     "iopub.status.busy": "2023-09-03T10:28:27.170288Z",
     "iopub.status.idle": "2023-09-03T11:09:43.787816Z",
     "shell.execute_reply": "2023-09-03T11:09:43.786878Z",
     "shell.execute_reply.started": "2023-09-03T10:28:27.170605Z"
    }
   },
   "outputs": [],
   "source": [
    "# Implement early stopping\n",
    "early_stopping = EarlyStopping(monitor='val_loss', patience=10, restore_best_weights=True)\n",
    "\n"
   ]
  },
  {
   "cell_type": "code",
   "execution_count": 7,
   "metadata": {},
   "outputs": [],
   "source": [
    "import tensorflow \n"
   ]
  },
  {
   "cell_type": "code",
   "execution_count": 13,
   "metadata": {
    "scrolled": true
   },
   "outputs": [],
   "source": [
    "tensorboard_callback = tensorflow.keras.callbacks.TensorBoard(log_dir=\"./logs\")"
   ]
  },
  {
   "cell_type": "code",
   "execution_count": null,
   "metadata": {},
   "outputs": [],
   "source": [
    "# Train the model with early stopping/////, callbacks=[tensorboard_callback]\n",
    "model.fit(train_generator, epochs=100, validation_data=test_generator)\n"
   ]
  },
  {
   "cell_type": "code",
   "execution_count": 10,
   "metadata": {
    "scrolled": true
   },
   "outputs": [],
   "source": [
    "model = tensorflow.keras.models.load_model(\"braintumor.h5\",compile = False) "
   ]
  },
  {
   "cell_type": "code",
   "execution_count": 11,
   "metadata": {},
   "outputs": [
    {
     "name": "stderr",
     "output_type": "stream",
     "text": [
      "C:\\Users\\MUZAMMIL\\anaconda3\\lib\\site-packages\\keras\\optimizers\\optimizer_v2\\adam.py:114: UserWarning: The `lr` argument is deprecated, use `learning_rate` instead.\n",
      "  super().__init__(name, **kwargs)\n"
     ]
    }
   ],
   "source": [
    "model.compile(optimizer=Adam(lr=0.00005),  # Experiment with different learning rates\n",
    "              loss='categorical_crossentropy',\n",
    "              metrics=['accuracy'])\n"
   ]
  },
  {
   "cell_type": "code",
   "execution_count": 12,
   "metadata": {
    "execution": {
     "iopub.execute_input": "2023-09-03T11:13:45.961797Z",
     "iopub.status.busy": "2023-09-03T11:13:45.961444Z",
     "iopub.status.idle": "2023-09-03T11:13:48.683764Z",
     "shell.execute_reply": "2023-09-03T11:13:48.682404Z",
     "shell.execute_reply.started": "2023-09-03T11:13:45.961768Z"
    }
   },
   "outputs": [
    {
     "name": "stdout",
     "output_type": "stream",
     "text": [
      "41/41 [==============================] - 231s 5s/step - loss: 0.4222 - accuracy: 0.8772\n",
      "Test Loss: 0.4222\n",
      "Test Accuracy: 0.8772\n"
     ]
    }
   ],
   "source": [
    "# Evaluate the model\n",
    "loss, accuracy = model.evaluate(test_generator)\n",
    "print(f'Test Loss: {loss:.4f}')\n",
    "print(f'Test Accuracy: {accuracy:.4f}')"
   ]
  },
  {
   "cell_type": "code",
   "execution_count": null,
   "metadata": {
    "execution": {
     "iopub.execute_input": "2023-09-03T11:15:42.036907Z",
     "iopub.status.busy": "2023-09-03T11:15:42.036560Z",
     "iopub.status.idle": "2023-09-03T11:15:42.580952Z",
     "shell.execute_reply": "2023-09-03T11:15:42.579979Z",
     "shell.execute_reply.started": "2023-09-03T11:15:42.036878Z"
    }
   },
   "outputs": [],
   "source": [
    "model.save('model.h5')"
   ]
  }
 ],
 "metadata": {
  "kernelspec": {
   "display_name": "Python 3 (ipykernel)",
   "language": "python",
   "name": "python3"
  },
  "language_info": {
   "codemirror_mode": {
    "name": "ipython",
    "version": 3
   },
   "file_extension": ".py",
   "mimetype": "text/x-python",
   "name": "python",
   "nbconvert_exporter": "python",
   "pygments_lexer": "ipython3",
   "version": "3.10.9"
  }
 },
 "nbformat": 4,
 "nbformat_minor": 4
}
